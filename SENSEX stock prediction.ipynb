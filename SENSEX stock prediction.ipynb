{
 "cells": [
  {
   "cell_type": "code",
   "execution_count": 1,
   "metadata": {},
   "outputs": [
    {
     "ename": "ModuleNotFoundError",
     "evalue": "No module named 'pandas_datareader'",
     "output_type": "error",
     "traceback": [
      "\u001b[1;31m---------------------------------------------------------------------------\u001b[0m",
      "\u001b[1;31mModuleNotFoundError\u001b[0m                       Traceback (most recent call last)",
      "\u001b[1;32m<ipython-input-1-310504562180>\u001b[0m in \u001b[0;36m<module>\u001b[1;34m\u001b[0m\n\u001b[0;32m      1\u001b[0m \u001b[1;32mimport\u001b[0m \u001b[0mpandas\u001b[0m \u001b[1;32mas\u001b[0m \u001b[0mpd\u001b[0m\u001b[1;33m\u001b[0m\u001b[1;33m\u001b[0m\u001b[0m\n\u001b[0;32m      2\u001b[0m \u001b[1;32mimport\u001b[0m \u001b[0mnumpy\u001b[0m \u001b[1;32mas\u001b[0m \u001b[0mnp\u001b[0m\u001b[1;33m\u001b[0m\u001b[1;33m\u001b[0m\u001b[0m\n\u001b[1;32m----> 3\u001b[1;33m \u001b[1;32mfrom\u001b[0m \u001b[0mpandas_datareader\u001b[0m \u001b[1;32mimport\u001b[0m \u001b[0mdata\u001b[0m \u001b[1;32mas\u001b[0m \u001b[0mpdr\u001b[0m\u001b[1;33m\u001b[0m\u001b[1;33m\u001b[0m\u001b[0m\n\u001b[0m\u001b[0;32m      4\u001b[0m \u001b[1;32mimport\u001b[0m \u001b[0mdatetime\u001b[0m \u001b[1;32mas\u001b[0m \u001b[0mdt\u001b[0m\u001b[1;33m\u001b[0m\u001b[1;33m\u001b[0m\u001b[0m\n\u001b[0;32m      5\u001b[0m \u001b[1;32mimport\u001b[0m \u001b[0mmatplotlib\u001b[0m\u001b[1;33m.\u001b[0m\u001b[0mpyplot\u001b[0m \u001b[1;32mas\u001b[0m \u001b[0mplt\u001b[0m\u001b[1;33m\u001b[0m\u001b[1;33m\u001b[0m\u001b[0m\n",
      "\u001b[1;31mModuleNotFoundError\u001b[0m: No module named 'pandas_datareader'"
     ]
    }
   ],
   "source": [
    "import pandas as pd\n",
    "import numpy as np\n",
    "from pandas_datareader import data as pdr\n",
    "import datetime as dt\n",
    "import matplotlib.pyplot as plt\n",
    "import yfinance as yf"
   ]
  },
  {
   "cell_type": "code",
   "execution_count": null,
   "metadata": {},
   "outputs": [],
   "source": [
    "#Data collection\n",
    "start = dt.datetime(2018,1,1)\n",
    "end =  dt.datetime.now()\n",
    "df = yf.download(\"^BSESN\", start, end, interval=\"1d\")"
   ]
  },
  {
   "cell_type": "code",
   "execution_count": 3,
   "metadata": {},
   "outputs": [],
   "source": [
    "df.to_csv('sensex.csv')"
   ]
  },
  {
   "cell_type": "code",
   "execution_count": 4,
   "metadata": {},
   "outputs": [],
   "source": [
    "DF = pd.read_csv('sensex.csv')"
   ]
  },
  {
   "cell_type": "code",
   "execution_count": 5,
   "metadata": {},
   "outputs": [
    {
     "data": {
      "text/html": [
       "<div>\n",
       "<style scoped>\n",
       "    .dataframe tbody tr th:only-of-type {\n",
       "        vertical-align: middle;\n",
       "    }\n",
       "\n",
       "    .dataframe tbody tr th {\n",
       "        vertical-align: top;\n",
       "    }\n",
       "\n",
       "    .dataframe thead th {\n",
       "        text-align: right;\n",
       "    }\n",
       "</style>\n",
       "<table border=\"1\" class=\"dataframe\">\n",
       "  <thead>\n",
       "    <tr style=\"text-align: right;\">\n",
       "      <th></th>\n",
       "      <th>Date</th>\n",
       "      <th>Open</th>\n",
       "      <th>High</th>\n",
       "      <th>Low</th>\n",
       "      <th>Close</th>\n",
       "      <th>Adj Close</th>\n",
       "      <th>Volume</th>\n",
       "    </tr>\n",
       "  </thead>\n",
       "  <tbody>\n",
       "    <tr>\n",
       "      <th>0</th>\n",
       "      <td>2018-01-01</td>\n",
       "      <td>34059.988281</td>\n",
       "      <td>34101.128906</td>\n",
       "      <td>33766.148438</td>\n",
       "      <td>33812.750000</td>\n",
       "      <td>33812.750000</td>\n",
       "      <td>7500</td>\n",
       "    </tr>\n",
       "    <tr>\n",
       "      <th>1</th>\n",
       "      <td>2018-01-02</td>\n",
       "      <td>33913.550781</td>\n",
       "      <td>33964.140625</td>\n",
       "      <td>33703.371094</td>\n",
       "      <td>33812.261719</td>\n",
       "      <td>33812.261719</td>\n",
       "      <td>10600</td>\n",
       "    </tr>\n",
       "    <tr>\n",
       "      <th>2</th>\n",
       "      <td>2018-01-03</td>\n",
       "      <td>33929.609375</td>\n",
       "      <td>33998.371094</td>\n",
       "      <td>33765.429688</td>\n",
       "      <td>33793.378906</td>\n",
       "      <td>33793.378906</td>\n",
       "      <td>9000</td>\n",
       "    </tr>\n",
       "    <tr>\n",
       "      <th>3</th>\n",
       "      <td>2018-01-04</td>\n",
       "      <td>33912.488281</td>\n",
       "      <td>33995.398438</td>\n",
       "      <td>33802.128906</td>\n",
       "      <td>33969.640625</td>\n",
       "      <td>33969.640625</td>\n",
       "      <td>10500</td>\n",
       "    </tr>\n",
       "    <tr>\n",
       "      <th>4</th>\n",
       "      <td>2018-01-05</td>\n",
       "      <td>34021.269531</td>\n",
       "      <td>34188.851562</td>\n",
       "      <td>34020.839844</td>\n",
       "      <td>34153.851562</td>\n",
       "      <td>34153.851562</td>\n",
       "      <td>14700</td>\n",
       "    </tr>\n",
       "  </tbody>\n",
       "</table>\n",
       "</div>"
      ],
      "text/plain": [
       "         Date          Open          High           Low         Close  \\\n",
       "0  2018-01-01  34059.988281  34101.128906  33766.148438  33812.750000   \n",
       "1  2018-01-02  33913.550781  33964.140625  33703.371094  33812.261719   \n",
       "2  2018-01-03  33929.609375  33998.371094  33765.429688  33793.378906   \n",
       "3  2018-01-04  33912.488281  33995.398438  33802.128906  33969.640625   \n",
       "4  2018-01-05  34021.269531  34188.851562  34020.839844  34153.851562   \n",
       "\n",
       "      Adj Close  Volume  \n",
       "0  33812.750000    7500  \n",
       "1  33812.261719   10600  \n",
       "2  33793.378906    9000  \n",
       "3  33969.640625   10500  \n",
       "4  34153.851562   14700  "
      ]
     },
     "execution_count": 5,
     "metadata": {},
     "output_type": "execute_result"
    }
   ],
   "source": [
    "DF.head()"
   ]
  },
  {
   "cell_type": "code",
   "execution_count": 6,
   "metadata": {},
   "outputs": [],
   "source": [
    "data = DF.reset_index()['Close']"
   ]
  },
  {
   "cell_type": "code",
   "execution_count": 7,
   "metadata": {},
   "outputs": [
    {
     "data": {
      "text/plain": [
       "(864,)"
      ]
     },
     "execution_count": 7,
     "metadata": {},
     "output_type": "execute_result"
    }
   ],
   "source": [
    "data.shape"
   ]
  },
  {
   "cell_type": "code",
   "execution_count": 8,
   "metadata": {},
   "outputs": [
    {
     "data": {
      "text/plain": [
       "[<matplotlib.lines.Line2D at 0x24534c0ce80>]"
      ]
     },
     "execution_count": 8,
     "metadata": {},
     "output_type": "execute_result"
    },
    {
     "data": {
      "image/png": "[encoded data removed]",
      "text/plain": [
       "<Figure size 432x288 with 1 Axes>"
      ]
     },
     "metadata": {
      "needs_background": "light"
     },
     "output_type": "display_data"
    }
   ],
   "source": [
    "plt.plot(data)"
   ]
  },
  {
   "cell_type": "markdown",
   "metadata": {},
   "source": [
    "since LSTM is being used in this project, I'm going to use MinMax scaler cause LSTM is highly sensitive to the scale of data"
   ]
  },
  {
   "cell_type": "code",
   "execution_count": 9,
   "metadata": {},
   "outputs": [],
   "source": [
    "from sklearn.preprocessing import MinMaxScaler\n",
    "scaler = MinMaxScaler(feature_range=(0, 1))\n",
    "data = scaler.fit_transform(np.array(data).reshape(-1, 1))"
   ]
  },
  {
   "cell_type": "code",
   "execution_count": 10,
   "metadata": {},
   "outputs": [
    {
     "data": {
      "text/plain": [
       "(864, 1)"
      ]
     },
     "execution_count": 10,
     "metadata": {},
     "output_type": "execute_result"
    }
   ],
   "source": [
    "data.shape"
   ]
  },
  {
   "cell_type": "markdown",
   "metadata": {},
   "source": [
    "Splitting dataset into train and test set"
   ]
  },
  {
   "cell_type": "code",
   "execution_count": 11,
   "metadata": {},
   "outputs": [],
   "source": [
    "train_size = int(len(data)*0.6)\n",
    "train_set, test_set = data[0:train_size, :], data[train_size:len(data), :1]"
   ]
  },
  {
   "cell_type": "code",
   "execution_count": 12,
   "metadata": {},
   "outputs": [],
   "source": [
    "## converting the array of values into dataset matrices(x & y)\n",
    "import numpy\n",
    "def create_dataset(dataset, time_step=1):\n",
    "    dataX, dataY = [], []\n",
    "    for i in range(len(dataset)-time_step-1):\n",
    "        a = dataset[i:(i+time_step), 0]\n",
    "        dataX.append(a)\n",
    "        dataY.append(dataset[i+time_step])\n",
    "    return numpy.array(dataX), numpy.array(dataY)      "
   ]
  },
  {
   "cell_type": "code",
   "execution_count": 13,
   "metadata": {},
   "outputs": [],
   "source": [
    "##reshaping the data\n",
    "time_step = 100\n",
    "x_train, y_train = create_dataset(train_set, time_step)\n",
    "x_test, y_test = create_dataset(test_set, time_step)"
   ]
  },
  {
   "cell_type": "code",
   "execution_count": 14,
   "metadata": {},
   "outputs": [],
   "source": [
    "##reshaping the data to feed into a stacked LSTM [samples, time_steps, features]\n",
    "x_train = x_train.reshape(x_train.shape[0], x_train.shape[1], 1)\n",
    "x_test = x_test.reshape(x_test.shape[0], x_test.shape[1], 1)"
   ]
  },
  {
   "cell_type": "markdown",
   "metadata": {},
   "source": [
    "Creating the stacked LSTM model"
   ]
  },
  {
   "cell_type": "code",
   "execution_count": 15,
   "metadata": {},
   "outputs": [],
   "source": [
    "from tensorflow.keras.models import Sequential\n",
    "from tensorflow.keras.layers import Dense\n",
    "from tensorflow.keras.layers import LSTM"
   ]
  },
  {
   "cell_type": "code",
   "execution_count": 16,
   "metadata": {},
   "outputs": [],
   "source": [
    "model = Sequential()\n",
    "model.add(LSTM(50, return_sequences=True, input_shape=(100, 1)))\n",
    "model.add(LSTM(50, return_sequences=True))\n",
    "model.add(LSTM(50))\n",
    "model.add(Dense(1))\n",
    "model.compile(loss='mean_squared_error', optimizer='adam')"
   ]
  },
  {
   "cell_type": "code",
   "execution_count": 17,
   "metadata": {},
   "outputs": [
    {
     "name": "stdout",
     "output_type": "stream",
     "text": [
      "Model: \"sequential\"\n",
      "_________________________________________________________________\n",
      "Layer (type)                 Output Shape              Param #   \n",
      "=================================================================\n",
      "lstm (LSTM)                  (None, 100, 50)           10400     \n",
      "_________________________________________________________________\n",
      "lstm_1 (LSTM)                (None, 100, 50)           20200     \n",
      "_________________________________________________________________\n",
      "lstm_2 (LSTM)                (None, 50)                20200     \n",
      "_________________________________________________________________\n",
      "dense (Dense)                (None, 1)                 51        \n",
      "=================================================================\n",
      "Total params: 50,851\n",
      "Trainable params: 50,851\n",
      "Non-trainable params: 0\n",
      "_________________________________________________________________\n"
     ]
    }
   ],
   "source": [
    "model.summary()"
   ]
  },
  {
   "cell_type": "code",
   "execution_count": 18,
   "metadata": {},
   "outputs": [
    {
     "name": "stdout",
     "output_type": "stream",
     "text": [
      "Epoch 1/50\n",
      "7/7 [==============================] - 4s 249ms/step - loss: 0.0602 - val_loss: 0.0049\n",
      "Epoch 2/50\n",
      "7/7 [==============================] - 1s 96ms/step - loss: 0.0078 - val_loss: 0.0781\n",
      "Epoch 3/50\n",
      "7/7 [==============================] - 1s 117ms/step - loss: 0.0049 - val_loss: 0.0141\n",
      "Epoch 4/50\n",
      "7/7 [==============================] - 1s 135ms/step - loss: 0.0038 - val_loss: 0.0336\n",
      "Epoch 5/50\n",
      "7/7 [==============================] - 1s 92ms/step - loss: 0.0025 - val_loss: 0.0385\n",
      "Epoch 6/50\n",
      "7/7 [==============================] - 1s 92ms/step - loss: 0.0021 - val_loss: 0.0223\n",
      "Epoch 7/50\n",
      "7/7 [==============================] - 1s 91ms/step - loss: 0.0019 - val_loss: 0.0340\n",
      "Epoch 8/50\n",
      "7/7 [==============================] - 1s 91ms/step - loss: 0.0018 - val_loss: 0.0235\n",
      "Epoch 9/50\n",
      "7/7 [==============================] - 1s 91ms/step - loss: 0.0016 - val_loss: 0.0276\n",
      "Epoch 10/50\n",
      "7/7 [==============================] - 1s 129ms/step - loss: 0.0016 - val_loss: 0.0208\n",
      "Epoch 11/50\n",
      "7/7 [==============================] - 1s 110ms/step - loss: 0.0015 - val_loss: 0.0212\n",
      "Epoch 12/50\n",
      "7/7 [==============================] - 1s 121ms/step - loss: 0.0014 - val_loss: 0.0176\n",
      "Epoch 13/50\n",
      "7/7 [==============================] - 1s 149ms/step - loss: 0.0014 - val_loss: 0.0170\n",
      "Epoch 14/50\n",
      "7/7 [==============================] - 1s 130ms/step - loss: 0.0013 - val_loss: 0.0139\n",
      "Epoch 15/50\n",
      "7/7 [==============================] - 1s 127ms/step - loss: 0.0012 - val_loss: 0.0133\n",
      "Epoch 16/50\n",
      "7/7 [==============================] - 1s 111ms/step - loss: 0.0012 - val_loss: 0.0107\n",
      "Epoch 17/50\n",
      "7/7 [==============================] - 1s 96ms/step - loss: 0.0011 - val_loss: 0.0098\n",
      "Epoch 18/50\n",
      "7/7 [==============================] - 1s 92ms/step - loss: 0.0011 - val_loss: 0.0090\n",
      "Epoch 19/50\n",
      "7/7 [==============================] - 1s 90ms/step - loss: 0.0010 - val_loss: 0.0064\n",
      "Epoch 20/50\n",
      "7/7 [==============================] - 1s 109ms/step - loss: 0.0010 - val_loss: 0.0063\n",
      "Epoch 21/50\n",
      "7/7 [==============================] - 1s 91ms/step - loss: 9.9688e-04 - val_loss: 0.0053\n",
      "Epoch 22/50\n",
      "7/7 [==============================] - 1s 94ms/step - loss: 9.7841e-04 - val_loss: 0.0050\n",
      "Epoch 23/50\n",
      "7/7 [==============================] - 1s 101ms/step - loss: 9.6351e-04 - val_loss: 0.0035\n",
      "Epoch 24/50\n",
      "7/7 [==============================] - 1s 96ms/step - loss: 9.5011e-04 - val_loss: 0.0028\n",
      "Epoch 25/50\n",
      "7/7 [==============================] - 1s 91ms/step - loss: 9.3905e-04 - val_loss: 0.0039\n",
      "Epoch 26/50\n",
      "7/7 [==============================] - 1s 99ms/step - loss: 9.0848e-04 - val_loss: 0.0032\n",
      "Epoch 27/50\n",
      "7/7 [==============================] - 1s 97ms/step - loss: 8.9002e-04 - val_loss: 0.0023\n",
      "Epoch 28/50\n",
      "7/7 [==============================] - 1s 96ms/step - loss: 8.7573e-04 - val_loss: 0.0023\n",
      "Epoch 29/50\n",
      "7/7 [==============================] - 1s 92ms/step - loss: 9.0520e-04 - val_loss: 0.0029\n",
      "Epoch 30/50\n",
      "7/7 [==============================] - 1s 92ms/step - loss: 8.8236e-04 - val_loss: 0.0045\n",
      "Epoch 31/50\n",
      "7/7 [==============================] - 1s 91ms/step - loss: 8.7507e-04 - val_loss: 0.0045\n",
      "Epoch 32/50\n",
      "7/7 [==============================] - 1s 89ms/step - loss: 8.9497e-04 - val_loss: 0.0024\n",
      "Epoch 33/50\n",
      "7/7 [==============================] - 1s 94ms/step - loss: 7.7864e-04 - val_loss: 0.0022\n",
      "Epoch 34/50\n",
      "7/7 [==============================] - 1s 92ms/step - loss: 7.5469e-04 - val_loss: 0.0029\n",
      "Epoch 35/50\n",
      "7/7 [==============================] - 1s 89ms/step - loss: 7.6535e-04 - val_loss: 0.0026\n",
      "Epoch 36/50\n",
      "7/7 [==============================] - 1s 90ms/step - loss: 8.1094e-04 - val_loss: 0.0026\n",
      "Epoch 37/50\n",
      "7/7 [==============================] - 1s 98ms/step - loss: 7.0881e-04 - val_loss: 0.0025\n",
      "Epoch 38/50\n",
      "7/7 [==============================] - 1s 89ms/step - loss: 7.0732e-04 - val_loss: 0.0037\n",
      "Epoch 39/50\n",
      "7/7 [==============================] - 1s 90ms/step - loss: 7.3118e-04 - val_loss: 0.0052\n",
      "Epoch 40/50\n",
      "7/7 [==============================] - 1s 90ms/step - loss: 7.6635e-04 - val_loss: 0.0044\n",
      "Epoch 41/50\n",
      "7/7 [==============================] - 1s 89ms/step - loss: 7.1368e-04 - val_loss: 0.0046\n",
      "Epoch 42/50\n",
      "7/7 [==============================] - 1s 93ms/step - loss: 7.1904e-04 - val_loss: 0.0035\n",
      "Epoch 43/50\n",
      "7/7 [==============================] - 1s 92ms/step - loss: 6.7110e-04 - val_loss: 0.0025\n",
      "Epoch 44/50\n",
      "7/7 [==============================] - 1s 91ms/step - loss: 6.4872e-04 - val_loss: 0.0016\n",
      "Epoch 45/50\n",
      "7/7 [==============================] - 1s 89ms/step - loss: 7.1288e-04 - val_loss: 0.0025\n",
      "Epoch 46/50\n",
      "7/7 [==============================] - 1s 92ms/step - loss: 6.8896e-04 - val_loss: 0.0024\n",
      "Epoch 47/50\n",
      "7/7 [==============================] - 1s 96ms/step - loss: 6.5177e-04 - val_loss: 0.0024\n",
      "Epoch 48/50\n",
      "7/7 [==============================] - 1s 89ms/step - loss: 6.5002e-04 - val_loss: 0.0027\n",
      "Epoch 49/50\n",
      "7/7 [==============================] - 1s 90ms/step - loss: 6.3885e-04 - val_loss: 0.0023\n",
      "Epoch 50/50\n",
      "7/7 [==============================] - 1s 96ms/step - loss: 6.6313e-04 - val_loss: 0.0018\n"
     ]
    },
    {
     "data": {
      "text/plain": [
       "<tensorflow.python.keras.callbacks.History at 0x24544ab0340>"
      ]
     },
     "execution_count": 18,
     "metadata": {},
     "output_type": "execute_result"
    }
   ],
   "source": [
    "model.fit(x_train, y_train, validation_data=(x_test, y_test), epochs=50, batch_size=64, verbose=1)"
   ]
  },
  {
   "cell_type": "code",
   "execution_count": 19,
   "metadata": {},
   "outputs": [
    {
     "data": {
      "text/plain": [
       "[<matplotlib.lines.Line2D at 0x2454b56e490>]"
      ]
     },
     "execution_count": 19,
     "metadata": {},
     "output_type": "execute_result"
    },
    {
     "data": {
      "image/png": "[encoded data removed]",
      "text/plain": [
       "<Figure size 432x288 with 1 Axes>"
      ]
     },
     "metadata": {
      "needs_background": "light"
     },
     "output_type": "display_data"
    }
   ],
   "source": [
    "loss_per_epochs = model.history.history['loss']\n",
    "plt.plot(range(len(loss_per_epochs)), loss_per_epochs)"
   ]
  },
  {
   "cell_type": "code",
   "execution_count": 20,
   "metadata": {},
   "outputs": [],
   "source": [
    "import tensorflow as tf"
   ]
  },
  {
   "cell_type": "code",
   "execution_count": 21,
   "metadata": {},
   "outputs": [],
   "source": [
    "### making predictions and checking performance matrices\n",
    "train_predict = model.predict(x_train)\n",
    "test_predict = model.predict(x_test)"
   ]
  },
  {
   "cell_type": "code",
   "execution_count": 22,
   "metadata": {},
   "outputs": [],
   "source": [
    "###inverse_transforming the data to it's original form\n",
    "train_predict = scaler.inverse_transform(train_predict)\n",
    "test_predict = scaler.inverse_transform(test_predict)"
   ]
  },
  {
   "cell_type": "code",
   "execution_count": 23,
   "metadata": {},
   "outputs": [
    {
     "data": {
      "text/plain": [
       "37951.52267413143"
      ]
     },
     "execution_count": 23,
     "metadata": {},
     "output_type": "execute_result"
    }
   ],
   "source": [
    "###calculating the rmse score of performance matrices\n",
    "import math\n",
    "from sklearn.metrics import mean_squared_error\n",
    "math.sqrt(mean_squared_error(y_train, train_predict))"
   ]
  },
  {
   "cell_type": "code",
   "execution_count": 24,
   "metadata": {},
   "outputs": [
    {
     "data": {
      "text/plain": [
       "45565.84689633131"
      ]
     },
     "execution_count": 24,
     "metadata": {},
     "output_type": "execute_result"
    }
   ],
   "source": [
    "math.sqrt(mean_squared_error(y_test, test_predict))"
   ]
  },
  {
   "cell_type": "code",
   "execution_count": 25,
   "metadata": {},
   "outputs": [
    {
     "data": {
      "image/png": "[encoded data removed]",
      "text/plain": [
       "<Figure size 432x288 with 1 Axes>"
      ]
     },
     "metadata": {
      "needs_background": "light"
     },
     "output_type": "display_data"
    }
   ],
   "source": [
    "###plotting\n",
    "# shift train predictions for plotting\n",
    "look_back = 100\n",
    "trainPredictPlot = numpy.empty_like(data)\n",
    "trainPredictPlot[:, :] = np.nan\n",
    "trainPredictPlot[look_back:len(train_predict)+look_back, :] = train_predict\n",
    "# shift test prediction for plotting\n",
    "testPredictPlot = numpy.empty_like(data)\n",
    "testPredictPlot[:, :] = np.nan\n",
    "testPredictPlot[len(train_predict)+(look_back*2)+1:len(data)-1, :] = test_predict\n",
    "#plotting baseline and predictions\n",
    "plt.plot(scaler.inverse_transform(data))\n",
    "plt.plot(trainPredictPlot)\n",
    "plt.plot(testPredictPlot)\n",
    "plt.show()"
   ]
  },
  {
   "cell_type": "markdown",
   "metadata": {},
   "source": [
    "Prediction for next 30 days"
   ]
  },
  {
   "cell_type": "code",
   "execution_count": 26,
   "metadata": {},
   "outputs": [
    {
     "data": {
      "text/plain": [
       "(1, 100)"
      ]
     },
     "execution_count": 26,
     "metadata": {},
     "output_type": "execute_result"
    }
   ],
   "source": [
    "x_input = test_set[len(test_set)-100: ].reshape(1, -1)\n",
    "x_input.shape"
   ]
  },
  {
   "cell_type": "code",
   "execution_count": 27,
   "metadata": {},
   "outputs": [],
   "source": [
    "temp_input = list(x_input)\n",
    "temp_input = temp_input[0].tolist()"
   ]
  },
  {
   "cell_type": "code",
   "execution_count": 28,
   "metadata": {},
   "outputs": [
    {
     "name": "stdout",
     "output_type": "stream",
     "text": [
      "[0.96657157]\n",
      "101\n",
      "1 Day input [0.96673381 0.96488858 0.9501013  0.93609733 0.92003257 0.87772402\n",
      " 0.87798589 0.91604083 0.9255563  0.85392468 0.88162154 0.89813401\n",
      " 0.94052812 0.91841905 0.90213902 0.9034595  0.92504554 0.93442855\n",
      " 0.91642448 0.90176071 0.90061135 0.87984051 0.85822893 0.88193175\n",
      " 0.87872015 0.88906798 0.85689142 0.82955152 0.85054542 0.89221263\n",
      " 0.8690376  0.88826967 0.85611619 0.85767012 0.8746746  0.87779385\n",
      " 0.87207274 0.80898743 0.8333906  0.84298009 0.84402729 0.81142683\n",
      " 0.80242833 0.81627474 0.80880535 0.82757138 0.84816821 0.87733691\n",
      " 0.87852263 0.84219259 0.83983457 0.82265883 0.83832133 0.84837584\n",
      " 0.86878871 0.8562081  0.83881074 0.84035284 0.87168159 0.89430878\n",
      " 0.88357181 0.87109537 0.90713136 0.91124674 0.91071607 0.92475149\n",
      " 0.92836015 0.93972403 0.95873014 0.9586355  0.95548118 0.96962597\n",
      " 0.96473636 0.9731749  0.97121943 0.95888525 0.97213909 0.97857685\n",
      " 0.98141245 0.9895946  0.97958222 0.97298343 0.97376357 0.98225939\n",
      " 0.98278573 0.97234628 0.98685942 0.9952085  0.98821092 0.98134334\n",
      " 0.97887047 0.97280885 0.9789429  0.99354492 0.99284977 1.\n",
      " 0.98205552 0.97530538 0.97480674 0.96657157]\n",
      "1 Day output [[0.9655621]]\n",
      "2 Day input [0.96488858 0.9501013  0.93609733 0.92003257 0.87772402 0.87798589\n",
      " 0.91604083 0.9255563  0.85392468 0.88162154 0.89813401 0.94052812\n",
      " 0.91841905 0.90213902 0.9034595  0.92504554 0.93442855 0.91642448\n",
      " 0.90176071 0.90061135 0.87984051 0.85822893 0.88193175 0.87872015\n",
      " 0.88906798 0.85689142 0.82955152 0.85054542 0.89221263 0.8690376\n",
      " 0.88826967 0.85611619 0.85767012 0.8746746  0.87779385 0.87207274\n",
      " 0.80898743 0.8333906  0.84298009 0.84402729 0.81142683 0.80242833\n",
      " 0.81627474 0.80880535 0.82757138 0.84816821 0.87733691 0.87852263\n",
      " 0.84219259 0.83983457 0.82265883 0.83832133 0.84837584 0.86878871\n",
      " 0.8562081  0.83881074 0.84035284 0.87168159 0.89430878 0.88357181\n",
      " 0.87109537 0.90713136 0.91124674 0.91071607 0.92475149 0.92836015\n",
      " 0.93972403 0.95873014 0.9586355  0.95548118 0.96962597 0.96473636\n",
      " 0.9731749  0.97121943 0.95888525 0.97213909 0.97857685 0.98141245\n",
      " 0.9895946  0.97958222 0.97298343 0.97376357 0.98225939 0.98278573\n",
      " 0.97234628 0.98685942 0.9952085  0.98821092 0.98134334 0.97887047\n",
      " 0.97280885 0.9789429  0.99354492 0.99284977 1.         0.98205552\n",
      " 0.97530538 0.97480674 0.96657157 0.96556211]\n",
      "2 Day output [[0.9640618]]\n",
      "3 Day input [0.9501013  0.93609733 0.92003257 0.87772402 0.87798589 0.91604083\n",
      " 0.9255563  0.85392468 0.88162154 0.89813401 0.94052812 0.91841905\n",
      " 0.90213902 0.9034595  0.92504554 0.93442855 0.91642448 0.90176071\n",
      " 0.90061135 0.87984051 0.85822893 0.88193175 0.87872015 0.88906798\n",
      " 0.85689142 0.82955152 0.85054542 0.89221263 0.8690376  0.88826967\n",
      " 0.85611619 0.85767012 0.8746746  0.87779385 0.87207274 0.80898743\n",
      " 0.8333906  0.84298009 0.84402729 0.81142683 0.80242833 0.81627474\n",
      " 0.80880535 0.82757138 0.84816821 0.87733691 0.87852263 0.84219259\n",
      " 0.83983457 0.82265883 0.83832133 0.84837584 0.86878871 0.8562081\n",
      " 0.83881074 0.84035284 0.87168159 0.89430878 0.88357181 0.87109537\n",
      " 0.90713136 0.91124674 0.91071607 0.92475149 0.92836015 0.93972403\n",
      " 0.95873014 0.9586355  0.95548118 0.96962597 0.96473636 0.9731749\n",
      " 0.97121943 0.95888525 0.97213909 0.97857685 0.98141245 0.9895946\n",
      " 0.97958222 0.97298343 0.97376357 0.98225939 0.98278573 0.97234628\n",
      " 0.98685942 0.9952085  0.98821092 0.98134334 0.97887047 0.97280885\n",
      " 0.9789429  0.99354492 0.99284977 1.         0.98205552 0.97530538\n",
      " 0.97480674 0.96657157 0.96556211 0.9640618 ]\n",
      "3 Day output [[0.96208775]]\n",
      "4 Day input [0.93609733 0.92003257 0.87772402 0.87798589 0.91604083 0.9255563\n",
      " 0.85392468 0.88162154 0.89813401 0.94052812 0.91841905 0.90213902\n",
      " 0.9034595  0.92504554 0.93442855 0.91642448 0.90176071 0.90061135\n",
      " 0.87984051 0.85822893 0.88193175 0.87872015 0.88906798 0.85689142\n",
      " 0.82955152 0.85054542 0.89221263 0.8690376  0.88826967 0.85611619\n",
      " 0.85767012 0.8746746  0.87779385 0.87207274 0.80898743 0.8333906\n",
      " 0.84298009 0.84402729 0.81142683 0.80242833 0.81627474 0.80880535\n",
      " 0.82757138 0.84816821 0.87733691 0.87852263 0.84219259 0.83983457\n",
      " 0.82265883 0.83832133 0.84837584 0.86878871 0.8562081  0.83881074\n",
      " 0.84035284 0.87168159 0.89430878 0.88357181 0.87109537 0.90713136\n",
      " 0.91124674 0.91071607 0.92475149 0.92836015 0.93972403 0.95873014\n",
      " 0.9586355  0.95548118 0.96962597 0.96473636 0.9731749  0.97121943\n",
      " 0.95888525 0.97213909 0.97857685 0.98141245 0.9895946  0.97958222\n",
      " 0.97298343 0.97376357 0.98225939 0.98278573 0.97234628 0.98685942\n",
      " 0.9952085  0.98821092 0.98134334 0.97887047 0.97280885 0.9789429\n",
      " 0.99354492 0.99284977 1.         0.98205552 0.97530538 0.97480674\n",
      " 0.96657157 0.96556211 0.9640618  0.96208775]\n",
      "4 Day output [[0.9596892]]\n",
      "5 Day input [0.92003257 0.87772402 0.87798589 0.91604083 0.9255563  0.85392468\n",
      " 0.88162154 0.89813401 0.94052812 0.91841905 0.90213902 0.9034595\n",
      " 0.92504554 0.93442855 0.91642448 0.90176071 0.90061135 0.87984051\n",
      " 0.85822893 0.88193175 0.87872015 0.88906798 0.85689142 0.82955152\n",
      " 0.85054542 0.89221263 0.8690376  0.88826967 0.85611619 0.85767012\n",
      " 0.8746746  0.87779385 0.87207274 0.80898743 0.8333906  0.84298009\n",
      " 0.84402729 0.81142683 0.80242833 0.81627474 0.80880535 0.82757138\n",
      " 0.84816821 0.87733691 0.87852263 0.84219259 0.83983457 0.82265883\n",
      " 0.83832133 0.84837584 0.86878871 0.8562081  0.83881074 0.84035284\n",
      " 0.87168159 0.89430878 0.88357181 0.87109537 0.90713136 0.91124674\n",
      " 0.91071607 0.92475149 0.92836015 0.93972403 0.95873014 0.9586355\n",
      " 0.95548118 0.96962597 0.96473636 0.9731749  0.97121943 0.95888525\n",
      " 0.97213909 0.97857685 0.98141245 0.9895946  0.97958222 0.97298343\n",
      " 0.97376357 0.98225939 0.98278573 0.97234628 0.98685942 0.9952085\n",
      " 0.98821092 0.98134334 0.97887047 0.97280885 0.9789429  0.99354492\n",
      " 0.99284977 1.         0.98205552 0.97530538 0.97480674 0.96657157\n",
      " 0.96556211 0.9640618  0.96208775 0.9596892 ]\n",
      "5 Day output [[0.95692986]]\n",
      "6 Day input [0.87772402 0.87798589 0.91604083 0.9255563  0.85392468 0.88162154\n",
      " 0.89813401 0.94052812 0.91841905 0.90213902 0.9034595  0.92504554\n",
      " 0.93442855 0.91642448 0.90176071 0.90061135 0.87984051 0.85822893\n",
      " 0.88193175 0.87872015 0.88906798 0.85689142 0.82955152 0.85054542\n",
      " 0.89221263 0.8690376  0.88826967 0.85611619 0.85767012 0.8746746\n",
      " 0.87779385 0.87207274 0.80898743 0.8333906  0.84298009 0.84402729\n",
      " 0.81142683 0.80242833 0.81627474 0.80880535 0.82757138 0.84816821\n",
      " 0.87733691 0.87852263 0.84219259 0.83983457 0.82265883 0.83832133\n",
      " 0.84837584 0.86878871 0.8562081  0.83881074 0.84035284 0.87168159\n",
      " 0.89430878 0.88357181 0.87109537 0.90713136 0.91124674 0.91071607\n",
      " 0.92475149 0.92836015 0.93972403 0.95873014 0.9586355  0.95548118\n",
      " 0.96962597 0.96473636 0.9731749  0.97121943 0.95888525 0.97213909\n",
      " 0.97857685 0.98141245 0.9895946  0.97958222 0.97298343 0.97376357\n",
      " 0.98225939 0.98278573 0.97234628 0.98685942 0.9952085  0.98821092\n",
      " 0.98134334 0.97887047 0.97280885 0.9789429  0.99354492 0.99284977\n",
      " 1.         0.98205552 0.97530538 0.97480674 0.96657157 0.96556211\n",
      " 0.9640618  0.96208775 0.9596892  0.95692986]\n",
      "6 Day output [[0.9538732]]\n",
      "7 Day input [0.87798589 0.91604083 0.9255563  0.85392468 0.88162154 0.89813401\n",
      " 0.94052812 0.91841905 0.90213902 0.9034595  0.92504554 0.93442855\n",
      " 0.91642448 0.90176071 0.90061135 0.87984051 0.85822893 0.88193175\n",
      " 0.87872015 0.88906798 0.85689142 0.82955152 0.85054542 0.89221263\n",
      " 0.8690376  0.88826967 0.85611619 0.85767012 0.8746746  0.87779385\n",
      " 0.87207274 0.80898743 0.8333906  0.84298009 0.84402729 0.81142683\n",
      " 0.80242833 0.81627474 0.80880535 0.82757138 0.84816821 0.87733691\n",
      " 0.87852263 0.84219259 0.83983457 0.82265883 0.83832133 0.84837584\n",
      " 0.86878871 0.8562081  0.83881074 0.84035284 0.87168159 0.89430878\n",
      " 0.88357181 0.87109537 0.90713136 0.91124674 0.91071607 0.92475149\n",
      " 0.92836015 0.93972403 0.95873014 0.9586355  0.95548118 0.96962597\n",
      " 0.96473636 0.9731749  0.97121943 0.95888525 0.97213909 0.97857685\n",
      " 0.98141245 0.9895946  0.97958222 0.97298343 0.97376357 0.98225939\n",
      " 0.98278573 0.97234628 0.98685942 0.9952085  0.98821092 0.98134334\n",
      " 0.97887047 0.97280885 0.9789429  0.99354492 0.99284977 1.\n",
      " 0.98205552 0.97530538 0.97480674 0.96657157 0.96556211 0.9640618\n",
      " 0.96208775 0.9596892  0.95692986 0.95387322]\n",
      "7 Day output [[0.9505783]]\n",
      "8 Day input [0.91604083 0.9255563  0.85392468 0.88162154 0.89813401 0.94052812\n",
      " 0.91841905 0.90213902 0.9034595  0.92504554 0.93442855 0.91642448\n",
      " 0.90176071 0.90061135 0.87984051 0.85822893 0.88193175 0.87872015\n",
      " 0.88906798 0.85689142 0.82955152 0.85054542 0.89221263 0.8690376\n",
      " 0.88826967 0.85611619 0.85767012 0.8746746  0.87779385 0.87207274\n",
      " 0.80898743 0.8333906  0.84298009 0.84402729 0.81142683 0.80242833\n",
      " 0.81627474 0.80880535 0.82757138 0.84816821 0.87733691 0.87852263\n",
      " 0.84219259 0.83983457 0.82265883 0.83832133 0.84837584 0.86878871\n",
      " 0.8562081  0.83881074 0.84035284 0.87168159 0.89430878 0.88357181\n",
      " 0.87109537 0.90713136 0.91124674 0.91071607 0.92475149 0.92836015\n",
      " 0.93972403 0.95873014 0.9586355  0.95548118 0.96962597 0.96473636\n",
      " 0.9731749  0.97121943 0.95888525 0.97213909 0.97857685 0.98141245\n",
      " 0.9895946  0.97958222 0.97298343 0.97376357 0.98225939 0.98278573\n",
      " 0.97234628 0.98685942 0.9952085  0.98821092 0.98134334 0.97887047\n",
      " 0.97280885 0.9789429  0.99354492 0.99284977 1.         0.98205552\n",
      " 0.97530538 0.97480674 0.96657157 0.96556211 0.9640618  0.96208775\n",
      " 0.9596892  0.95692986 0.95387322 0.95057827]\n",
      "8 Day output [[0.94709337]]\n",
      "9 Day input [0.9255563  0.85392468 0.88162154 0.89813401 0.94052812 0.91841905\n",
      " 0.90213902 0.9034595  0.92504554 0.93442855 0.91642448 0.90176071\n",
      " 0.90061135 0.87984051 0.85822893 0.88193175 0.87872015 0.88906798\n",
      " 0.85689142 0.82955152 0.85054542 0.89221263 0.8690376  0.88826967\n",
      " 0.85611619 0.85767012 0.8746746  0.87779385 0.87207274 0.80898743\n",
      " 0.8333906  0.84298009 0.84402729 0.81142683 0.80242833 0.81627474\n",
      " 0.80880535 0.82757138 0.84816821 0.87733691 0.87852263 0.84219259\n",
      " 0.83983457 0.82265883 0.83832133 0.84837584 0.86878871 0.8562081\n",
      " 0.83881074 0.84035284 0.87168159 0.89430878 0.88357181 0.87109537\n",
      " 0.90713136 0.91124674 0.91071607 0.92475149 0.92836015 0.93972403\n",
      " 0.95873014 0.9586355  0.95548118 0.96962597 0.96473636 0.9731749\n",
      " 0.97121943 0.95888525 0.97213909 0.97857685 0.98141245 0.9895946\n",
      " 0.97958222 0.97298343 0.97376357 0.98225939 0.98278573 0.97234628\n",
      " 0.98685942 0.9952085  0.98821092 0.98134334 0.97887047 0.97280885\n",
      " 0.9789429  0.99354492 0.99284977 1.         0.98205552 0.97530538\n",
      " 0.97480674 0.96657157 0.96556211 0.9640618  0.96208775 0.9596892\n",
      " 0.95692986 0.95387322 0.95057827 0.94709337]\n",
      "9 Day output [[0.94345784]]\n",
      "10 Day input [0.85392468 0.88162154 0.89813401 0.94052812 0.91841905 0.90213902\n",
      " 0.9034595  0.92504554 0.93442855 0.91642448 0.90176071 0.90061135\n",
      " 0.87984051 0.85822893 0.88193175 0.87872015 0.88906798 0.85689142\n",
      " 0.82955152 0.85054542 0.89221263 0.8690376  0.88826967 0.85611619\n",
      " 0.85767012 0.8746746  0.87779385 0.87207274 0.80898743 0.8333906\n",
      " 0.84298009 0.84402729 0.81142683 0.80242833 0.81627474 0.80880535\n",
      " 0.82757138 0.84816821 0.87733691 0.87852263 0.84219259 0.83983457\n",
      " 0.82265883 0.83832133 0.84837584 0.86878871 0.8562081  0.83881074\n",
      " 0.84035284 0.87168159 0.89430878 0.88357181 0.87109537 0.90713136\n",
      " 0.91124674 0.91071607 0.92475149 0.92836015 0.93972403 0.95873014\n",
      " 0.9586355  0.95548118 0.96962597 0.96473636 0.9731749  0.97121943\n",
      " 0.95888525 0.97213909 0.97857685 0.98141245 0.9895946  0.97958222\n",
      " 0.97298343 0.97376357 0.98225939 0.98278573 0.97234628 0.98685942\n",
      " 0.9952085  0.98821092 0.98134334 0.97887047 0.97280885 0.9789429\n",
      " 0.99354492 0.99284977 1.         0.98205552 0.97530538 0.97480674\n",
      " 0.96657157 0.96556211 0.9640618  0.96208775 0.9596892  0.95692986\n",
      " 0.95387322 0.95057827 0.94709337 0.94345784]\n",
      "10 Day output [[0.93970066]]\n",
      "11 Day input [0.88162154 0.89813401 0.94052812 0.91841905 0.90213902 0.9034595\n",
      " 0.92504554 0.93442855 0.91642448 0.90176071 0.90061135 0.87984051\n",
      " 0.85822893 0.88193175 0.87872015 0.88906798 0.85689142 0.82955152\n",
      " 0.85054542 0.89221263 0.8690376  0.88826967 0.85611619 0.85767012\n",
      " 0.8746746  0.87779385 0.87207274 0.80898743 0.8333906  0.84298009\n",
      " 0.84402729 0.81142683 0.80242833 0.81627474 0.80880535 0.82757138\n",
      " 0.84816821 0.87733691 0.87852263 0.84219259 0.83983457 0.82265883\n",
      " 0.83832133 0.84837584 0.86878871 0.8562081  0.83881074 0.84035284\n",
      " 0.87168159 0.89430878 0.88357181 0.87109537 0.90713136 0.91124674\n",
      " 0.91071607 0.92475149 0.92836015 0.93972403 0.95873014 0.9586355\n",
      " 0.95548118 0.96962597 0.96473636 0.9731749  0.97121943 0.95888525\n",
      " 0.97213909 0.97857685 0.98141245 0.9895946  0.97958222 0.97298343\n",
      " 0.97376357 0.98225939 0.98278573 0.97234628 0.98685942 0.9952085\n",
      " 0.98821092 0.98134334 0.97887047 0.97280885 0.9789429  0.99354492\n",
      " 0.99284977 1.         0.98205552 0.97530538 0.97480674 0.96657157\n",
      " 0.96556211 0.9640618  0.96208775 0.9596892  0.95692986 0.95387322\n",
      " 0.95057827 0.94709337 0.94345784 0.93970066]\n",
      "11 Day output [[0.9358435]]\n",
      "12 Day input [0.89813401 0.94052812 0.91841905 0.90213902 0.9034595  0.92504554\n",
      " 0.93442855 0.91642448 0.90176071 0.90061135 0.87984051 0.85822893\n",
      " 0.88193175 0.87872015 0.88906798 0.85689142 0.82955152 0.85054542\n",
      " 0.89221263 0.8690376  0.88826967 0.85611619 0.85767012 0.8746746\n",
      " 0.87779385 0.87207274 0.80898743 0.8333906  0.84298009 0.84402729\n",
      " 0.81142683 0.80242833 0.81627474 0.80880535 0.82757138 0.84816821\n",
      " 0.87733691 0.87852263 0.84219259 0.83983457 0.82265883 0.83832133\n",
      " 0.84837584 0.86878871 0.8562081  0.83881074 0.84035284 0.87168159\n",
      " 0.89430878 0.88357181 0.87109537 0.90713136 0.91124674 0.91071607\n",
      " 0.92475149 0.92836015 0.93972403 0.95873014 0.9586355  0.95548118\n",
      " 0.96962597 0.96473636 0.9731749  0.97121943 0.95888525 0.97213909\n",
      " 0.97857685 0.98141245 0.9895946  0.97958222 0.97298343 0.97376357\n",
      " 0.98225939 0.98278573 0.97234628 0.98685942 0.9952085  0.98821092\n",
      " 0.98134334 0.97887047 0.97280885 0.9789429  0.99354492 0.99284977\n",
      " 1.         0.98205552 0.97530538 0.97480674 0.96657157 0.96556211\n",
      " 0.9640618  0.96208775 0.9596892  0.95692986 0.95387322 0.95057827\n",
      " 0.94709337 0.94345784 0.93970066 0.93584353]\n",
      "12 Day output [[0.9319013]]\n",
      "13 Day input [0.94052812 0.91841905 0.90213902 0.9034595  0.92504554 0.93442855\n",
      " 0.91642448 0.90176071 0.90061135 0.87984051 0.85822893 0.88193175\n",
      " 0.87872015 0.88906798 0.85689142 0.82955152 0.85054542 0.89221263\n",
      " 0.8690376  0.88826967 0.85611619 0.85767012 0.8746746  0.87779385\n",
      " 0.87207274 0.80898743 0.8333906  0.84298009 0.84402729 0.81142683\n",
      " 0.80242833 0.81627474 0.80880535 0.82757138 0.84816821 0.87733691\n",
      " 0.87852263 0.84219259 0.83983457 0.82265883 0.83832133 0.84837584\n",
      " 0.86878871 0.8562081  0.83881074 0.84035284 0.87168159 0.89430878\n",
      " 0.88357181 0.87109537 0.90713136 0.91124674 0.91071607 0.92475149\n",
      " 0.92836015 0.93972403 0.95873014 0.9586355  0.95548118 0.96962597\n",
      " 0.96473636 0.9731749  0.97121943 0.95888525 0.97213909 0.97857685\n",
      " 0.98141245 0.9895946  0.97958222 0.97298343 0.97376357 0.98225939\n",
      " 0.98278573 0.97234628 0.98685942 0.9952085  0.98821092 0.98134334\n",
      " 0.97887047 0.97280885 0.9789429  0.99354492 0.99284977 1.\n",
      " 0.98205552 0.97530538 0.97480674 0.96657157 0.96556211 0.9640618\n",
      " 0.96208775 0.9596892  0.95692986 0.95387322 0.95057827 0.94709337\n",
      " 0.94345784 0.93970066 0.93584353 0.93190128]\n"
     ]
    },
    {
     "name": "stdout",
     "output_type": "stream",
     "text": [
      "13 Day output [[0.9278838]]\n",
      "14 Day input [0.91841905 0.90213902 0.9034595  0.92504554 0.93442855 0.91642448\n",
      " 0.90176071 0.90061135 0.87984051 0.85822893 0.88193175 0.87872015\n",
      " 0.88906798 0.85689142 0.82955152 0.85054542 0.89221263 0.8690376\n",
      " 0.88826967 0.85611619 0.85767012 0.8746746  0.87779385 0.87207274\n",
      " 0.80898743 0.8333906  0.84298009 0.84402729 0.81142683 0.80242833\n",
      " 0.81627474 0.80880535 0.82757138 0.84816821 0.87733691 0.87852263\n",
      " 0.84219259 0.83983457 0.82265883 0.83832133 0.84837584 0.86878871\n",
      " 0.8562081  0.83881074 0.84035284 0.87168159 0.89430878 0.88357181\n",
      " 0.87109537 0.90713136 0.91124674 0.91071607 0.92475149 0.92836015\n",
      " 0.93972403 0.95873014 0.9586355  0.95548118 0.96962597 0.96473636\n",
      " 0.9731749  0.97121943 0.95888525 0.97213909 0.97857685 0.98141245\n",
      " 0.9895946  0.97958222 0.97298343 0.97376357 0.98225939 0.98278573\n",
      " 0.97234628 0.98685942 0.9952085  0.98821092 0.98134334 0.97887047\n",
      " 0.97280885 0.9789429  0.99354492 0.99284977 1.         0.98205552\n",
      " 0.97530538 0.97480674 0.96657157 0.96556211 0.9640618  0.96208775\n",
      " 0.9596892  0.95692986 0.95387322 0.95057827 0.94709337 0.94345784\n",
      " 0.93970066 0.93584353 0.93190128 0.9278838 ]\n",
      "14 Day output [[0.92379856]]\n",
      "15 Day input [0.90213902 0.9034595  0.92504554 0.93442855 0.91642448 0.90176071\n",
      " 0.90061135 0.87984051 0.85822893 0.88193175 0.87872015 0.88906798\n",
      " 0.85689142 0.82955152 0.85054542 0.89221263 0.8690376  0.88826967\n",
      " 0.85611619 0.85767012 0.8746746  0.87779385 0.87207274 0.80898743\n",
      " 0.8333906  0.84298009 0.84402729 0.81142683 0.80242833 0.81627474\n",
      " 0.80880535 0.82757138 0.84816821 0.87733691 0.87852263 0.84219259\n",
      " 0.83983457 0.82265883 0.83832133 0.84837584 0.86878871 0.8562081\n",
      " 0.83881074 0.84035284 0.87168159 0.89430878 0.88357181 0.87109537\n",
      " 0.90713136 0.91124674 0.91071607 0.92475149 0.92836015 0.93972403\n",
      " 0.95873014 0.9586355  0.95548118 0.96962597 0.96473636 0.9731749\n",
      " 0.97121943 0.95888525 0.97213909 0.97857685 0.98141245 0.9895946\n",
      " 0.97958222 0.97298343 0.97376357 0.98225939 0.98278573 0.97234628\n",
      " 0.98685942 0.9952085  0.98821092 0.98134334 0.97887047 0.97280885\n",
      " 0.9789429  0.99354492 0.99284977 1.         0.98205552 0.97530538\n",
      " 0.97480674 0.96657157 0.96556211 0.9640618  0.96208775 0.9596892\n",
      " 0.95692986 0.95387322 0.95057827 0.94709337 0.94345784 0.93970066\n",
      " 0.93584353 0.93190128 0.9278838  0.92379856]\n",
      "15 Day output [[0.9196504]]\n",
      "16 Day input [0.9034595  0.92504554 0.93442855 0.91642448 0.90176071 0.90061135\n",
      " 0.87984051 0.85822893 0.88193175 0.87872015 0.88906798 0.85689142\n",
      " 0.82955152 0.85054542 0.89221263 0.8690376  0.88826967 0.85611619\n",
      " 0.85767012 0.8746746  0.87779385 0.87207274 0.80898743 0.8333906\n",
      " 0.84298009 0.84402729 0.81142683 0.80242833 0.81627474 0.80880535\n",
      " 0.82757138 0.84816821 0.87733691 0.87852263 0.84219259 0.83983457\n",
      " 0.82265883 0.83832133 0.84837584 0.86878871 0.8562081  0.83881074\n",
      " 0.84035284 0.87168159 0.89430878 0.88357181 0.87109537 0.90713136\n",
      " 0.91124674 0.91071607 0.92475149 0.92836015 0.93972403 0.95873014\n",
      " 0.9586355  0.95548118 0.96962597 0.96473636 0.9731749  0.97121943\n",
      " 0.95888525 0.97213909 0.97857685 0.98141245 0.9895946  0.97958222\n",
      " 0.97298343 0.97376357 0.98225939 0.98278573 0.97234628 0.98685942\n",
      " 0.9952085  0.98821092 0.98134334 0.97887047 0.97280885 0.9789429\n",
      " 0.99354492 0.99284977 1.         0.98205552 0.97530538 0.97480674\n",
      " 0.96657157 0.96556211 0.9640618  0.96208775 0.9596892  0.95692986\n",
      " 0.95387322 0.95057827 0.94709337 0.94345784 0.93970066 0.93584353\n",
      " 0.93190128 0.9278838  0.92379856 0.91965038]\n",
      "16 Day output [[0.91544336]]\n",
      "17 Day input [0.92504554 0.93442855 0.91642448 0.90176071 0.90061135 0.87984051\n",
      " 0.85822893 0.88193175 0.87872015 0.88906798 0.85689142 0.82955152\n",
      " 0.85054542 0.89221263 0.8690376  0.88826967 0.85611619 0.85767012\n",
      " 0.8746746  0.87779385 0.87207274 0.80898743 0.8333906  0.84298009\n",
      " 0.84402729 0.81142683 0.80242833 0.81627474 0.80880535 0.82757138\n",
      " 0.84816821 0.87733691 0.87852263 0.84219259 0.83983457 0.82265883\n",
      " 0.83832133 0.84837584 0.86878871 0.8562081  0.83881074 0.84035284\n",
      " 0.87168159 0.89430878 0.88357181 0.87109537 0.90713136 0.91124674\n",
      " 0.91071607 0.92475149 0.92836015 0.93972403 0.95873014 0.9586355\n",
      " 0.95548118 0.96962597 0.96473636 0.9731749  0.97121943 0.95888525\n",
      " 0.97213909 0.97857685 0.98141245 0.9895946  0.97958222 0.97298343\n",
      " 0.97376357 0.98225939 0.98278573 0.97234628 0.98685942 0.9952085\n",
      " 0.98821092 0.98134334 0.97887047 0.97280885 0.9789429  0.99354492\n",
      " 0.99284977 1.         0.98205552 0.97530538 0.97480674 0.96657157\n",
      " 0.96556211 0.9640618  0.96208775 0.9596892  0.95692986 0.95387322\n",
      " 0.95057827 0.94709337 0.94345784 0.93970066 0.93584353 0.93190128\n",
      " 0.9278838  0.92379856 0.91965038 0.91544336]\n",
      "17 Day output [[0.91118085]]\n",
      "18 Day input [0.93442855 0.91642448 0.90176071 0.90061135 0.87984051 0.85822893\n",
      " 0.88193175 0.87872015 0.88906798 0.85689142 0.82955152 0.85054542\n",
      " 0.89221263 0.8690376  0.88826967 0.85611619 0.85767012 0.8746746\n",
      " 0.87779385 0.87207274 0.80898743 0.8333906  0.84298009 0.84402729\n",
      " 0.81142683 0.80242833 0.81627474 0.80880535 0.82757138 0.84816821\n",
      " 0.87733691 0.87852263 0.84219259 0.83983457 0.82265883 0.83832133\n",
      " 0.84837584 0.86878871 0.8562081  0.83881074 0.84035284 0.87168159\n",
      " 0.89430878 0.88357181 0.87109537 0.90713136 0.91124674 0.91071607\n",
      " 0.92475149 0.92836015 0.93972403 0.95873014 0.9586355  0.95548118\n",
      " 0.96962597 0.96473636 0.9731749  0.97121943 0.95888525 0.97213909\n",
      " 0.97857685 0.98141245 0.9895946  0.97958222 0.97298343 0.97376357\n",
      " 0.98225939 0.98278573 0.97234628 0.98685942 0.9952085  0.98821092\n",
      " 0.98134334 0.97887047 0.97280885 0.9789429  0.99354492 0.99284977\n",
      " 1.         0.98205552 0.97530538 0.97480674 0.96657157 0.96556211\n",
      " 0.9640618  0.96208775 0.9596892  0.95692986 0.95387322 0.95057827\n",
      " 0.94709337 0.94345784 0.93970066 0.93584353 0.93190128 0.9278838\n",
      " 0.92379856 0.91965038 0.91544336 0.91118085]\n",
      "18 Day output [[0.9068648]]\n",
      "19 Day input [0.91642448 0.90176071 0.90061135 0.87984051 0.85822893 0.88193175\n",
      " 0.87872015 0.88906798 0.85689142 0.82955152 0.85054542 0.89221263\n",
      " 0.8690376  0.88826967 0.85611619 0.85767012 0.8746746  0.87779385\n",
      " 0.87207274 0.80898743 0.8333906  0.84298009 0.84402729 0.81142683\n",
      " 0.80242833 0.81627474 0.80880535 0.82757138 0.84816821 0.87733691\n",
      " 0.87852263 0.84219259 0.83983457 0.82265883 0.83832133 0.84837584\n",
      " 0.86878871 0.8562081  0.83881074 0.84035284 0.87168159 0.89430878\n",
      " 0.88357181 0.87109537 0.90713136 0.91124674 0.91071607 0.92475149\n",
      " 0.92836015 0.93972403 0.95873014 0.9586355  0.95548118 0.96962597\n",
      " 0.96473636 0.9731749  0.97121943 0.95888525 0.97213909 0.97857685\n",
      " 0.98141245 0.9895946  0.97958222 0.97298343 0.97376357 0.98225939\n",
      " 0.98278573 0.97234628 0.98685942 0.9952085  0.98821092 0.98134334\n",
      " 0.97887047 0.97280885 0.9789429  0.99354492 0.99284977 1.\n",
      " 0.98205552 0.97530538 0.97480674 0.96657157 0.96556211 0.9640618\n",
      " 0.96208775 0.9596892  0.95692986 0.95387322 0.95057827 0.94709337\n",
      " 0.94345784 0.93970066 0.93584353 0.93190128 0.9278838  0.92379856\n",
      " 0.91965038 0.91544336 0.91118085 0.90686482]\n",
      "19 Day output [[0.90249884]]\n",
      "20 Day input [0.90176071 0.90061135 0.87984051 0.85822893 0.88193175 0.87872015\n",
      " 0.88906798 0.85689142 0.82955152 0.85054542 0.89221263 0.8690376\n",
      " 0.88826967 0.85611619 0.85767012 0.8746746  0.87779385 0.87207274\n",
      " 0.80898743 0.8333906  0.84298009 0.84402729 0.81142683 0.80242833\n",
      " 0.81627474 0.80880535 0.82757138 0.84816821 0.87733691 0.87852263\n",
      " 0.84219259 0.83983457 0.82265883 0.83832133 0.84837584 0.86878871\n",
      " 0.8562081  0.83881074 0.84035284 0.87168159 0.89430878 0.88357181\n",
      " 0.87109537 0.90713136 0.91124674 0.91071607 0.92475149 0.92836015\n",
      " 0.93972403 0.95873014 0.9586355  0.95548118 0.96962597 0.96473636\n",
      " 0.9731749  0.97121943 0.95888525 0.97213909 0.97857685 0.98141245\n",
      " 0.9895946  0.97958222 0.97298343 0.97376357 0.98225939 0.98278573\n",
      " 0.97234628 0.98685942 0.9952085  0.98821092 0.98134334 0.97887047\n",
      " 0.97280885 0.9789429  0.99354492 0.99284977 1.         0.98205552\n",
      " 0.97530538 0.97480674 0.96657157 0.96556211 0.9640618  0.96208775\n",
      " 0.9596892  0.95692986 0.95387322 0.95057827 0.94709337 0.94345784\n",
      " 0.93970066 0.93584353 0.93190128 0.9278838  0.92379856 0.91965038\n",
      " 0.91544336 0.91118085 0.90686482 0.90249884]\n",
      "20 Day output [[0.89808524]]\n",
      "21 Day input [0.90061135 0.87984051 0.85822893 0.88193175 0.87872015 0.88906798\n",
      " 0.85689142 0.82955152 0.85054542 0.89221263 0.8690376  0.88826967\n",
      " 0.85611619 0.85767012 0.8746746  0.87779385 0.87207274 0.80898743\n",
      " 0.8333906  0.84298009 0.84402729 0.81142683 0.80242833 0.81627474\n",
      " 0.80880535 0.82757138 0.84816821 0.87733691 0.87852263 0.84219259\n",
      " 0.83983457 0.82265883 0.83832133 0.84837584 0.86878871 0.8562081\n",
      " 0.83881074 0.84035284 0.87168159 0.89430878 0.88357181 0.87109537\n",
      " 0.90713136 0.91124674 0.91071607 0.92475149 0.92836015 0.93972403\n",
      " 0.95873014 0.9586355  0.95548118 0.96962597 0.96473636 0.9731749\n",
      " 0.97121943 0.95888525 0.97213909 0.97857685 0.98141245 0.9895946\n",
      " 0.97958222 0.97298343 0.97376357 0.98225939 0.98278573 0.97234628\n",
      " 0.98685942 0.9952085  0.98821092 0.98134334 0.97887047 0.97280885\n",
      " 0.9789429  0.99354492 0.99284977 1.         0.98205552 0.97530538\n",
      " 0.97480674 0.96657157 0.96556211 0.9640618  0.96208775 0.9596892\n",
      " 0.95692986 0.95387322 0.95057827 0.94709337 0.94345784 0.93970066\n",
      " 0.93584353 0.93190128 0.9278838  0.92379856 0.91965038 0.91544336\n",
      " 0.91118085 0.90686482 0.90249884 0.89808524]\n",
      "21 Day output [[0.8936275]]\n",
      "22 Day input [0.87984051 0.85822893 0.88193175 0.87872015 0.88906798 0.85689142\n",
      " 0.82955152 0.85054542 0.89221263 0.8690376  0.88826967 0.85611619\n",
      " 0.85767012 0.8746746  0.87779385 0.87207274 0.80898743 0.8333906\n",
      " 0.84298009 0.84402729 0.81142683 0.80242833 0.81627474 0.80880535\n",
      " 0.82757138 0.84816821 0.87733691 0.87852263 0.84219259 0.83983457\n",
      " 0.82265883 0.83832133 0.84837584 0.86878871 0.8562081  0.83881074\n",
      " 0.84035284 0.87168159 0.89430878 0.88357181 0.87109537 0.90713136\n",
      " 0.91124674 0.91071607 0.92475149 0.92836015 0.93972403 0.95873014\n",
      " 0.9586355  0.95548118 0.96962597 0.96473636 0.9731749  0.97121943\n",
      " 0.95888525 0.97213909 0.97857685 0.98141245 0.9895946  0.97958222\n",
      " 0.97298343 0.97376357 0.98225939 0.98278573 0.97234628 0.98685942\n",
      " 0.9952085  0.98821092 0.98134334 0.97887047 0.97280885 0.9789429\n",
      " 0.99354492 0.99284977 1.         0.98205552 0.97530538 0.97480674\n",
      " 0.96657157 0.96556211 0.9640618  0.96208775 0.9596892  0.95692986\n",
      " 0.95387322 0.95057827 0.94709337 0.94345784 0.93970066 0.93584353\n",
      " 0.93190128 0.9278838  0.92379856 0.91965038 0.91544336 0.91118085\n",
      " 0.90686482 0.90249884 0.89808524 0.89362752]\n",
      "22 Day output [[0.889128]]\n",
      "23 Day input [0.85822893 0.88193175 0.87872015 0.88906798 0.85689142 0.82955152\n",
      " 0.85054542 0.89221263 0.8690376  0.88826967 0.85611619 0.85767012\n",
      " 0.8746746  0.87779385 0.87207274 0.80898743 0.8333906  0.84298009\n",
      " 0.84402729 0.81142683 0.80242833 0.81627474 0.80880535 0.82757138\n",
      " 0.84816821 0.87733691 0.87852263 0.84219259 0.83983457 0.82265883\n",
      " 0.83832133 0.84837584 0.86878871 0.8562081  0.83881074 0.84035284\n",
      " 0.87168159 0.89430878 0.88357181 0.87109537 0.90713136 0.91124674\n",
      " 0.91071607 0.92475149 0.92836015 0.93972403 0.95873014 0.9586355\n",
      " 0.95548118 0.96962597 0.96473636 0.9731749  0.97121943 0.95888525\n",
      " 0.97213909 0.97857685 0.98141245 0.9895946  0.97958222 0.97298343\n",
      " 0.97376357 0.98225939 0.98278573 0.97234628 0.98685942 0.9952085\n",
      " 0.98821092 0.98134334 0.97887047 0.97280885 0.9789429  0.99354492\n",
      " 0.99284977 1.         0.98205552 0.97530538 0.97480674 0.96657157\n",
      " 0.96556211 0.9640618  0.96208775 0.9596892  0.95692986 0.95387322\n",
      " 0.95057827 0.94709337 0.94345784 0.93970066 0.93584353 0.93190128\n",
      " 0.9278838  0.92379856 0.91965038 0.91544336 0.91118085 0.90686482\n",
      " 0.90249884 0.89808524 0.89362752 0.88912803]\n",
      "23 Day output [[0.88459015]]\n",
      "24 Day input [0.88193175 0.87872015 0.88906798 0.85689142 0.82955152 0.85054542\n",
      " 0.89221263 0.8690376  0.88826967 0.85611619 0.85767012 0.8746746\n",
      " 0.87779385 0.87207274 0.80898743 0.8333906  0.84298009 0.84402729\n",
      " 0.81142683 0.80242833 0.81627474 0.80880535 0.82757138 0.84816821\n",
      " 0.87733691 0.87852263 0.84219259 0.83983457 0.82265883 0.83832133\n",
      " 0.84837584 0.86878871 0.8562081  0.83881074 0.84035284 0.87168159\n",
      " 0.89430878 0.88357181 0.87109537 0.90713136 0.91124674 0.91071607\n",
      " 0.92475149 0.92836015 0.93972403 0.95873014 0.9586355  0.95548118\n",
      " 0.96962597 0.96473636 0.9731749  0.97121943 0.95888525 0.97213909\n",
      " 0.97857685 0.98141245 0.9895946  0.97958222 0.97298343 0.97376357\n",
      " 0.98225939 0.98278573 0.97234628 0.98685942 0.9952085  0.98821092\n",
      " 0.98134334 0.97887047 0.97280885 0.9789429  0.99354492 0.99284977\n",
      " 1.         0.98205552 0.97530538 0.97480674 0.96657157 0.96556211\n",
      " 0.9640618  0.96208775 0.9596892  0.95692986 0.95387322 0.95057827\n",
      " 0.94709337 0.94345784 0.93970066 0.93584353 0.93190128 0.9278838\n",
      " 0.92379856 0.91965038 0.91544336 0.91118085 0.90686482 0.90249884\n",
      " 0.89808524 0.89362752 0.88912803 0.88459015]\n",
      "24 Day output [[0.8800167]]\n",
      "25 Day input [0.87872015 0.88906798 0.85689142 0.82955152 0.85054542 0.89221263\n",
      " 0.8690376  0.88826967 0.85611619 0.85767012 0.8746746  0.87779385\n",
      " 0.87207274 0.80898743 0.8333906  0.84298009 0.84402729 0.81142683\n",
      " 0.80242833 0.81627474 0.80880535 0.82757138 0.84816821 0.87733691\n",
      " 0.87852263 0.84219259 0.83983457 0.82265883 0.83832133 0.84837584\n",
      " 0.86878871 0.8562081  0.83881074 0.84035284 0.87168159 0.89430878\n",
      " 0.88357181 0.87109537 0.90713136 0.91124674 0.91071607 0.92475149\n",
      " 0.92836015 0.93972403 0.95873014 0.9586355  0.95548118 0.96962597\n",
      " 0.96473636 0.9731749  0.97121943 0.95888525 0.97213909 0.97857685\n",
      " 0.98141245 0.9895946  0.97958222 0.97298343 0.97376357 0.98225939\n",
      " 0.98278573 0.97234628 0.98685942 0.9952085  0.98821092 0.98134334\n",
      " 0.97887047 0.97280885 0.9789429  0.99354492 0.99284977 1.\n",
      " 0.98205552 0.97530538 0.97480674 0.96657157 0.96556211 0.9640618\n",
      " 0.96208775 0.9596892  0.95692986 0.95387322 0.95057827 0.94709337\n",
      " 0.94345784 0.93970066 0.93584353 0.93190128 0.9278838  0.92379856\n",
      " 0.91965038 0.91544336 0.91118085 0.90686482 0.90249884 0.89808524\n",
      " 0.89362752 0.88912803 0.88459015 0.88001668]\n",
      "25 Day output [[0.8754108]]\n",
      "26 Day input [0.88906798 0.85689142 0.82955152 0.85054542 0.89221263 0.8690376\n",
      " 0.88826967 0.85611619 0.85767012 0.8746746  0.87779385 0.87207274\n",
      " 0.80898743 0.8333906  0.84298009 0.84402729 0.81142683 0.80242833\n",
      " 0.81627474 0.80880535 0.82757138 0.84816821 0.87733691 0.87852263\n",
      " 0.84219259 0.83983457 0.82265883 0.83832133 0.84837584 0.86878871\n",
      " 0.8562081  0.83881074 0.84035284 0.87168159 0.89430878 0.88357181\n",
      " 0.87109537 0.90713136 0.91124674 0.91071607 0.92475149 0.92836015\n",
      " 0.93972403 0.95873014 0.9586355  0.95548118 0.96962597 0.96473636\n",
      " 0.9731749  0.97121943 0.95888525 0.97213909 0.97857685 0.98141245\n",
      " 0.9895946  0.97958222 0.97298343 0.97376357 0.98225939 0.98278573\n",
      " 0.97234628 0.98685942 0.9952085  0.98821092 0.98134334 0.97887047\n",
      " 0.97280885 0.9789429  0.99354492 0.99284977 1.         0.98205552\n",
      " 0.97530538 0.97480674 0.96657157 0.96556211 0.9640618  0.96208775\n",
      " 0.9596892  0.95692986 0.95387322 0.95057827 0.94709337 0.94345784\n",
      " 0.93970066 0.93584353 0.93190128 0.9278838  0.92379856 0.91965038\n",
      " 0.91544336 0.91118085 0.90686482 0.90249884 0.89808524 0.89362752\n",
      " 0.88912803 0.88459015 0.88001668 0.8754108 ]\n"
     ]
    },
    {
     "name": "stdout",
     "output_type": "stream",
     "text": [
      "26 Day output [[0.87077504]]\n",
      "27 Day input [0.85689142 0.82955152 0.85054542 0.89221263 0.8690376  0.88826967\n",
      " 0.85611619 0.85767012 0.8746746  0.87779385 0.87207274 0.80898743\n",
      " 0.8333906  0.84298009 0.84402729 0.81142683 0.80242833 0.81627474\n",
      " 0.80880535 0.82757138 0.84816821 0.87733691 0.87852263 0.84219259\n",
      " 0.83983457 0.82265883 0.83832133 0.84837584 0.86878871 0.8562081\n",
      " 0.83881074 0.84035284 0.87168159 0.89430878 0.88357181 0.87109537\n",
      " 0.90713136 0.91124674 0.91071607 0.92475149 0.92836015 0.93972403\n",
      " 0.95873014 0.9586355  0.95548118 0.96962597 0.96473636 0.9731749\n",
      " 0.97121943 0.95888525 0.97213909 0.97857685 0.98141245 0.9895946\n",
      " 0.97958222 0.97298343 0.97376357 0.98225939 0.98278573 0.97234628\n",
      " 0.98685942 0.9952085  0.98821092 0.98134334 0.97887047 0.97280885\n",
      " 0.9789429  0.99354492 0.99284977 1.         0.98205552 0.97530538\n",
      " 0.97480674 0.96657157 0.96556211 0.9640618  0.96208775 0.9596892\n",
      " 0.95692986 0.95387322 0.95057827 0.94709337 0.94345784 0.93970066\n",
      " 0.93584353 0.93190128 0.9278838  0.92379856 0.91965038 0.91544336\n",
      " 0.91118085 0.90686482 0.90249884 0.89808524 0.89362752 0.88912803\n",
      " 0.88459015 0.88001668 0.8754108  0.87077504]\n",
      "27 Day output [[0.8661122]]\n",
      "28 Day input [0.82955152 0.85054542 0.89221263 0.8690376  0.88826967 0.85611619\n",
      " 0.85767012 0.8746746  0.87779385 0.87207274 0.80898743 0.8333906\n",
      " 0.84298009 0.84402729 0.81142683 0.80242833 0.81627474 0.80880535\n",
      " 0.82757138 0.84816821 0.87733691 0.87852263 0.84219259 0.83983457\n",
      " 0.82265883 0.83832133 0.84837584 0.86878871 0.8562081  0.83881074\n",
      " 0.84035284 0.87168159 0.89430878 0.88357181 0.87109537 0.90713136\n",
      " 0.91124674 0.91071607 0.92475149 0.92836015 0.93972403 0.95873014\n",
      " 0.9586355  0.95548118 0.96962597 0.96473636 0.9731749  0.97121943\n",
      " 0.95888525 0.97213909 0.97857685 0.98141245 0.9895946  0.97958222\n",
      " 0.97298343 0.97376357 0.98225939 0.98278573 0.97234628 0.98685942\n",
      " 0.9952085  0.98821092 0.98134334 0.97887047 0.97280885 0.9789429\n",
      " 0.99354492 0.99284977 1.         0.98205552 0.97530538 0.97480674\n",
      " 0.96657157 0.96556211 0.9640618  0.96208775 0.9596892  0.95692986\n",
      " 0.95387322 0.95057827 0.94709337 0.94345784 0.93970066 0.93584353\n",
      " 0.93190128 0.9278838  0.92379856 0.91965038 0.91544336 0.91118085\n",
      " 0.90686482 0.90249884 0.89808524 0.89362752 0.88912803 0.88459015\n",
      " 0.88001668 0.8754108  0.87077504 0.86611217]\n",
      "28 Day output [[0.86142564]]\n",
      "29 Day input [0.85054542 0.89221263 0.8690376  0.88826967 0.85611619 0.85767012\n",
      " 0.8746746  0.87779385 0.87207274 0.80898743 0.8333906  0.84298009\n",
      " 0.84402729 0.81142683 0.80242833 0.81627474 0.80880535 0.82757138\n",
      " 0.84816821 0.87733691 0.87852263 0.84219259 0.83983457 0.82265883\n",
      " 0.83832133 0.84837584 0.86878871 0.8562081  0.83881074 0.84035284\n",
      " 0.87168159 0.89430878 0.88357181 0.87109537 0.90713136 0.91124674\n",
      " 0.91071607 0.92475149 0.92836015 0.93972403 0.95873014 0.9586355\n",
      " 0.95548118 0.96962597 0.96473636 0.9731749  0.97121943 0.95888525\n",
      " 0.97213909 0.97857685 0.98141245 0.9895946  0.97958222 0.97298343\n",
      " 0.97376357 0.98225939 0.98278573 0.97234628 0.98685942 0.9952085\n",
      " 0.98821092 0.98134334 0.97887047 0.97280885 0.9789429  0.99354492\n",
      " 0.99284977 1.         0.98205552 0.97530538 0.97480674 0.96657157\n",
      " 0.96556211 0.9640618  0.96208775 0.9596892  0.95692986 0.95387322\n",
      " 0.95057827 0.94709337 0.94345784 0.93970066 0.93584353 0.93190128\n",
      " 0.9278838  0.92379856 0.91965038 0.91544336 0.91118085 0.90686482\n",
      " 0.90249884 0.89808524 0.89362752 0.88912803 0.88459015 0.88001668\n",
      " 0.8754108  0.87077504 0.86611217 0.86142564]\n",
      "29 Day output [[0.85671717]]\n",
      "[[0.966571569442749], [0.965562105178833], [0.9640617966651917], [0.9620877504348755], [0.959689199924469], [0.9569298624992371], [0.9538732171058655], [0.9505782723426819], [0.9470933675765991], [0.943457841873169], [0.9397006630897522], [0.9358435273170471], [0.9319012761116028], [0.9278838038444519], [0.9237985610961914], [0.9196503758430481], [0.9154433608055115], [0.911180853843689], [0.9068648219108582], [0.9024988412857056], [0.8980852365493774], [0.8936275243759155], [0.8891280293464661], [0.8845901489257812], [0.8800166845321655], [0.875410795211792], [0.870775043964386], [0.8661121726036072], [0.8614256381988525], [0.8567171692848206]]\n"
     ]
    }
   ],
   "source": [
    "##predicting the data\n",
    "from numpy import array\n",
    "lst_output = []\n",
    "n_steps = 100\n",
    "i = 0\n",
    "while(i<30):\n",
    "    if(len(temp_input)>100):\n",
    "        x_input = np.array(temp_input[1:])\n",
    "        print(\"{} Day input {}\".format(i, x_input))\n",
    "        x_input = x_input.reshape(1, -1)\n",
    "        x_input = x_input.reshape(1, n_steps, 1)\n",
    "        yhat = model.predict(x_input, verbose=0)\n",
    "        print(\"{} Day output {}\".format(i, yhat))\n",
    "        temp_input.extend(yhat[0].tolist())\n",
    "        temp_input = temp_input[1:]\n",
    "        lst_output.extend(yhat.tolist())\n",
    "        i = i+1\n",
    "    else:\n",
    "        x_input = x_input.reshape(1, n_steps, 1)\n",
    "        yhat = model.predict(x_input, verbose=0)\n",
    "        print(yhat[0])\n",
    "        temp_input.extend(yhat[0].tolist())\n",
    "        print(len(temp_input))\n",
    "        lst_output.extend(yhat.tolist())\n",
    "        i = i+1\n",
    "print(lst_output)"
   ]
  },
  {
   "cell_type": "code",
   "execution_count": 29,
   "metadata": {},
   "outputs": [],
   "source": [
    "day_new = np.arange(1,101)\n",
    "day_pred = np.arange(101,131)"
   ]
  },
  {
   "cell_type": "code",
   "execution_count": 30,
   "metadata": {},
   "outputs": [
    {
     "data": {
      "text/plain": [
       "864"
      ]
     },
     "execution_count": 30,
     "metadata": {},
     "output_type": "execute_result"
    }
   ],
   "source": [
    "len(data)"
   ]
  },
  {
   "cell_type": "code",
   "execution_count": 31,
   "metadata": {},
   "outputs": [],
   "source": [
    "data1 = data.tolist()\n",
    "data1.extend(lst_output)"
   ]
  },
  {
   "cell_type": "code",
   "execution_count": 32,
   "metadata": {},
   "outputs": [
    {
     "data": {
      "text/plain": [
       "[<matplotlib.lines.Line2D at 0x2454c9c1850>]"
      ]
     },
     "execution_count": 32,
     "metadata": {},
     "output_type": "execute_result"
    },
    {
     "data": {
      "image/png": "[encoded data removed]",
      "text/plain": [
       "<Figure size 432x288 with 1 Axes>"
      ]
     },
     "metadata": {
      "needs_background": "light"
     },
     "output_type": "display_data"
    }
   ],
   "source": [
    "plt.plot(day_new, scaler.inverse_transform(data[len(data)-100:]))\n",
    "plt.plot(day_pred, scaler.inverse_transform(lst_output))"
   ]
  },
  {
   "cell_type": "code",
   "execution_count": 35,
   "metadata": {},
   "outputs": [
    {
     "data": {
      "text/plain": [
       "[<matplotlib.lines.Line2D at 0x2454db09700>]"
      ]
     },
     "execution_count": 35,
     "metadata": {},
     "output_type": "execute_result"
    },
    {
     "data": {
      "image/png": "[encoded data removed]",
      "text/plain": [
       "<Figure size 432x288 with 1 Axes>"
      ]
     },
     "metadata": {
      "needs_background": "light"
     },
     "output_type": "display_data"
    }
   ],
   "source": [
    "data1 = data.tolist()\n",
    "data1.extend(lst_output)\n",
    "plt.plot(data1[800:])"
   ]
  },
  {
   "cell_type": "code",
   "execution_count": null,
   "metadata": {},
   "outputs": [],
   "source": []
  }
 ],
 "metadata": {
  "kernelspec": {
   "display_name": "Python 3",
   "language": "python",
   "name": "python3"
  },
  "language_info": {
   "codemirror_mode": {
    "name": "ipython",
    "version": 3
   },
   "file_extension": ".py",
   "mimetype": "text/x-python",
   "name": "python",
   "nbconvert_exporter": "python",
   "pygments_lexer": "ipython3",
   "version": "3.8.5"
  }
 },
 "nbformat": 4,
 "nbformat_minor": 4
}
